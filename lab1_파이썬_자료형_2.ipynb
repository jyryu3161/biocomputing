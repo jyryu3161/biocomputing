{
  "nbformat": 4,
  "nbformat_minor": 0,
  "metadata": {
    "colab": {
      "provenance": [],
      "toc_visible": true,
      "authorship_tag": "ABX9TyNr5QQrtBiwBqKUuAF+Istu",
      "include_colab_link": true
    },
    "kernelspec": {
      "name": "python3",
      "display_name": "Python 3"
    },
    "language_info": {
      "name": "python"
    }
  },
  "cells": [
    {
      "cell_type": "markdown",
      "metadata": {
        "id": "view-in-github",
        "colab_type": "text"
      },
      "source": [
        "<a href=\"https://colab.research.google.com/github/jyryu3161/biocomputing/blob/main/lab1_%ED%8C%8C%EC%9D%B4%EC%8D%AC_%EC%9E%90%EB%A3%8C%ED%98%95_2.ipynb\" target=\"_parent\"><img src=\"https://colab.research.google.com/assets/colab-badge.svg\" alt=\"Open In Colab\"/></a>"
      ]
    },
    {
      "cell_type": "markdown",
      "source": [
        "# lab1.파이썬 프로그래밍 기초, 자료형"
      ],
      "metadata": {
        "id": "pjYVFLgjOuye"
      }
    },
    {
      "cell_type": "markdown",
      "source": [
        "변수명을 만드는 규칙. 참고: https://m.post.naver.com/viewer/postView.naver?volumeNo=15835285&memberNo=38315694"
      ],
      "metadata": {
        "id": "kpB-6dqxcGBB"
      }
    },
    {
      "cell_type": "markdown",
      "source": [
        "## 리스트 자료형"
      ],
      "metadata": {
        "id": "fxT5KES5VVI7"
      }
    },
    {
      "cell_type": "markdown",
      "source": [
        "*  리스트 자료형: 여러 요소를 한번에 담을 수 있음\n",
        "*  리스트명 = [요소1, 요소2, 요소3, ...]\n",
        "\n"
      ],
      "metadata": {
        "id": "fD_zqX9TXivD"
      }
    },
    {
      "cell_type": "code",
      "source": [
        "odd = [1, 3, 5, 7, 9]\n",
        "print (odd)\n"
      ],
      "metadata": {
        "id": "Jpk9DC2lOvg1"
      },
      "execution_count": null,
      "outputs": []
    },
    {
      "cell_type": "code",
      "source": [
        "a = []\n",
        "b = [1, 2, 3]\n",
        "c = ['Life', 'is', 'too', 'short']\n",
        "d = [1, 2, 'Life', 'is']\n",
        "e = [1, 2, ['Life', 'is']]\n",
        "\n",
        "print (a)\n",
        "print (b)\n",
        "print (c)\n",
        "print (d)\n",
        "print (e)\n"
      ],
      "metadata": {
        "id": "85C6EkqkVip1"
      },
      "execution_count": null,
      "outputs": []
    },
    {
      "cell_type": "markdown",
      "source": [
        "리스트의 인덱싱"
      ],
      "metadata": {
        "id": "vPyu4BEHG7mM"
      }
    },
    {
      "cell_type": "code",
      "source": [
        "a = [1, 2, 3]\n",
        "print (a[0])\n",
        "print (a[0] + a[2])\n",
        "print (a[-1])\n",
        "\n"
      ],
      "metadata": {
        "id": "g78rtEiEG7Ig"
      },
      "execution_count": null,
      "outputs": []
    },
    {
      "cell_type": "markdown",
      "source": [
        "리스트의 슬라이싱"
      ],
      "metadata": {
        "id": "hbyAAXiqHDnN"
      }
    },
    {
      "cell_type": "code",
      "source": [
        "a = [1, 2, 3, 4, 5, 6, 7, 8, 9, 10]\n",
        "print (a[0:2])\n",
        "\n",
        "b = a[:2]\n",
        "c = a[2:]\n",
        "\n",
        "print (b)\n",
        "print (c)\n",
        "\n",
        "\n",
        "print (a[0:8:2])\n"
      ],
      "metadata": {
        "id": "KUZcAC5QHDsr"
      },
      "execution_count": null,
      "outputs": []
    },
    {
      "cell_type": "markdown",
      "source": [
        "리스트 더하기"
      ],
      "metadata": {
        "id": "Az4SBp3sHOGK"
      }
    },
    {
      "cell_type": "code",
      "source": [
        "a = [1, 2, 3]\n",
        "b = [4, 5, 6]\n",
        "\n",
        "print (a + b)\n"
      ],
      "metadata": {
        "id": "0LS_7Hp-HOPr"
      },
      "execution_count": null,
      "outputs": []
    },
    {
      "cell_type": "markdown",
      "source": [
        "리스트 반복하기"
      ],
      "metadata": {
        "id": "OX0MCfgdHbqq"
      }
    },
    {
      "cell_type": "code",
      "source": [
        "a = [1, 2, 3]\n",
        "print (a * 3)\n",
        "\n",
        "\n",
        "a = list(range(1, 100, 1))\n",
        "print (a)\n",
        "\n",
        "a = list(range(1, 100, 2))\n",
        "print (a)\n",
        "\n",
        "\n"
      ],
      "metadata": {
        "id": "J74RIoD6HbwJ"
      },
      "execution_count": null,
      "outputs": []
    },
    {
      "cell_type": "markdown",
      "source": [
        "리스트에서 하나의 값 수정하기"
      ],
      "metadata": {
        "id": "l7PvoAoAHjoS"
      }
    },
    {
      "cell_type": "code",
      "source": [
        "a = [1, 2, 3]\n",
        "a[2] = 4\n",
        "print (a)\n",
        "\n"
      ],
      "metadata": {
        "id": "cCqPbjxKHjvs"
      },
      "execution_count": null,
      "outputs": []
    },
    {
      "cell_type": "markdown",
      "source": [
        "리스트에서 연속된 범위 값 수정하기"
      ],
      "metadata": {
        "id": "tzBQ0VSBHqLk"
      }
    },
    {
      "cell_type": "code",
      "source": [
        "a = [1, 2, 3]\n",
        "print (a)\n",
        "\n",
        "a[1:2] = ['a', 'b', 'c']\n",
        "print (a)"
      ],
      "metadata": {
        "id": "Od8dzDg5HqSS"
      },
      "execution_count": null,
      "outputs": []
    },
    {
      "cell_type": "markdown",
      "source": [
        "[], del 사용해 리스트 요소 삭제하기"
      ],
      "metadata": {
        "id": "ZUA1vQ0-H3Fh"
      }
    },
    {
      "cell_type": "code",
      "source": [
        "a = [1, 'a', 'b', 'c', 4]\n",
        "a[1:3] = []\n",
        "print (a)\n",
        "\n",
        "del a[1]\n",
        "print (a)"
      ],
      "metadata": {
        "id": "EcPv4GoBH3OJ"
      },
      "execution_count": null,
      "outputs": []
    },
    {
      "cell_type": "markdown",
      "source": [
        "리스트에 요소 추가"
      ],
      "metadata": {
        "id": "iTZqCU4XIEdV"
      }
    },
    {
      "cell_type": "code",
      "source": [
        "a = [1, 2, 3]\n",
        "a.append(4)\n",
        "print (a)\n",
        "\n",
        "a.append(4)\n",
        "a.append(5)\n",
        "a.append([7])\n",
        "print (a)\n",
        "\n"
      ],
      "metadata": {
        "id": "BTAifbSIIOtG"
      },
      "execution_count": null,
      "outputs": []
    },
    {
      "cell_type": "markdown",
      "source": [
        "리스트 정렬 (sort)"
      ],
      "metadata": {
        "id": "vy7Jce1LIOlV"
      }
    },
    {
      "cell_type": "code",
      "source": [
        "a = [1, 4, 3, 2]\n",
        "a.sort()\n",
        "b = a.sort()\n",
        "\n",
        "print(a.sort())\n",
        "print(b)\n",
        "\n",
        "print (a)"
      ],
      "metadata": {
        "id": "AA2cLjoIIElJ"
      },
      "execution_count": null,
      "outputs": []
    },
    {
      "cell_type": "markdown",
      "source": [
        "리스트 뒤집기 (reverse)"
      ],
      "metadata": {
        "id": "PgdLFP7nILHW"
      }
    },
    {
      "cell_type": "code",
      "source": [
        "a = ['a', 'c', 'b']\n",
        "a.reverse()\n",
        "print (a)\n",
        "\n",
        "a.sort()\n",
        "print (a)\n",
        "\n"
      ],
      "metadata": {
        "id": "atHoEWqHILN8"
      },
      "execution_count": null,
      "outputs": []
    },
    {
      "cell_type": "markdown",
      "source": [
        "위치 반환(index)"
      ],
      "metadata": {
        "id": "tMlBP96XIWw9"
      }
    },
    {
      "cell_type": "code",
      "source": [
        "a = [1, 2, 3]\n",
        "\n",
        "print (a.index(3))\n",
        "print (a.index(1))\n"
      ],
      "metadata": {
        "id": "ywzzdbvdIW5A"
      },
      "execution_count": null,
      "outputs": []
    },
    {
      "cell_type": "markdown",
      "source": [
        "리스트에 요소 삽입 (insert)"
      ],
      "metadata": {
        "id": "neF6M6MPIgoP"
      }
    },
    {
      "cell_type": "code",
      "source": [
        "a = [1, 2, 3]\n",
        "a.insert(0, 4)\n",
        "print (a)\n"
      ],
      "metadata": {
        "id": "b9YE5yrBIgtJ"
      },
      "execution_count": null,
      "outputs": []
    },
    {
      "cell_type": "markdown",
      "source": [
        "리스트 요소 제거 (remove)"
      ],
      "metadata": {
        "id": "wS2_mw0XIpTq"
      }
    },
    {
      "cell_type": "code",
      "source": [
        "a = [1, 2, 3, 1, 2, 3]\n",
        "print(a.remove(3))\n",
        "print (a)\n",
        "\n",
        "a.remove(3)\n",
        "print (a)\n"
      ],
      "metadata": {
        "id": "pTM6r39cIpbQ"
      },
      "execution_count": null,
      "outputs": []
    },
    {
      "cell_type": "markdown",
      "source": [
        "리스트 요소 끄집어내기 (pop)"
      ],
      "metadata": {
        "id": "lArLBD6GIyRo"
      }
    },
    {
      "cell_type": "code",
      "source": [
        "a = [1, 2, 3]\n",
        "b = a.pop()\n",
        "\n",
        "print (a)\n",
        "print (b)\n"
      ],
      "metadata": {
        "id": "YVztE8HeIyae"
      },
      "execution_count": null,
      "outputs": []
    },
    {
      "cell_type": "markdown",
      "source": [
        "리스트에 포함된 요소 x의 개수 세기 (count)"
      ],
      "metadata": {
        "id": "eJPbgn27I-8T"
      }
    },
    {
      "cell_type": "code",
      "source": [
        "a = [1, 2, 3, 1]\n",
        "print (a.count(1))\n"
      ],
      "metadata": {
        "id": "0CRo8cIGI_CN"
      },
      "execution_count": null,
      "outputs": []
    },
    {
      "cell_type": "markdown",
      "source": [
        "리스트 자료형 사용 시 주의사항"
      ],
      "metadata": {
        "id": "yoJ6dhGHJGek"
      }
    },
    {
      "cell_type": "code",
      "source": [
        "a = [1, 2, 3]\n",
        "b = a\n",
        "b[1] = 5\n",
        "\n",
        "print (a)\n",
        "print (b)\n",
        "\n",
        "print (id(a))\n",
        "print (id(b))"
      ],
      "metadata": {
        "id": "lUVu9SK6JGkW"
      },
      "execution_count": null,
      "outputs": []
    },
    {
      "cell_type": "code",
      "source": [
        "import copy\n",
        "\n",
        "a = [1, 2, 3]\n",
        "b = copy.deepcopy(a)\n",
        "b[1] = 5\n",
        "\n",
        "print (a)\n",
        "print (b)\n",
        "\n",
        "print (id(a))\n",
        "print (id(b))"
      ],
      "metadata": {
        "id": "rmv8pMeVJUJO"
      },
      "execution_count": null,
      "outputs": []
    },
    {
      "cell_type": "markdown",
      "source": [
        "## 튜플 자료형"
      ],
      "metadata": {
        "id": "uPXFBbWwJZUP"
      }
    },
    {
      "cell_type": "markdown",
      "source": [
        "튜플 자료형을 만드는 법\n"
      ],
      "metadata": {
        "id": "SJbWLB0nZFEV"
      }
    },
    {
      "cell_type": "code",
      "source": [
        "t1 = (1, 2, 'a', 'b')\n",
        "t2 = tuple([1, 2, 'a', 'b'])\n",
        "t3 = (1,)\n",
        "\n",
        "print (t1)\n",
        "print (t2)\n",
        "print (t3)"
      ],
      "metadata": {
        "id": "rWXaFphfVWgK"
      },
      "execution_count": null,
      "outputs": []
    },
    {
      "cell_type": "markdown",
      "source": [
        "튜플 요소값 삭제 시 오류"
      ],
      "metadata": {
        "id": "5SDtwSMYJoO4"
      }
    },
    {
      "cell_type": "code",
      "source": [
        "t1 = (1, 2, 'a', 'b')\n",
        "del t1[0]\n"
      ],
      "metadata": {
        "id": "f3OvAsofJoVJ"
      },
      "execution_count": null,
      "outputs": []
    },
    {
      "cell_type": "markdown",
      "source": [
        "튜플 요소값 변경 시 오류"
      ],
      "metadata": {
        "id": "B5mzKlQAJvsA"
      }
    },
    {
      "cell_type": "code",
      "source": [
        "t1 = (1, 2, 'a', 'b')\n",
        "t1[0] = 'c'\n"
      ],
      "metadata": {
        "id": "eDecBGbvJvyF"
      },
      "execution_count": null,
      "outputs": []
    },
    {
      "cell_type": "markdown",
      "source": [
        "인덱싱"
      ],
      "metadata": {
        "id": "lderid-IJ1L1"
      }
    },
    {
      "cell_type": "code",
      "source": [
        "t1 = (1, 2, 'a', 'b')\n",
        "print (t1[0])\n",
        "print (t1[3])\n"
      ],
      "metadata": {
        "id": "4ss6W8xWJ1R-"
      },
      "execution_count": null,
      "outputs": []
    },
    {
      "cell_type": "markdown",
      "source": [
        "슬라이싱"
      ],
      "metadata": {
        "id": "l4YBhdsCJ5df"
      }
    },
    {
      "cell_type": "code",
      "source": [
        "t1 = (1, 2, 'a', 'b')\n",
        "print (t1[1:])"
      ],
      "metadata": {
        "id": "5ZyQfvcNJ5hh"
      },
      "execution_count": null,
      "outputs": []
    },
    {
      "cell_type": "markdown",
      "source": [
        "더하기, 곱하기"
      ],
      "metadata": {
        "id": "VoLiCX0qZpcH"
      }
    },
    {
      "cell_type": "code",
      "source": [
        "t1 = (1, 2, 'a', 'b')\n",
        "t2 = (3, 4)\n",
        "\n",
        "t3 = t1 + t3\n",
        "\n",
        "print(t1 + t2)\n",
        "print (t2 * 3)\n",
        "\n",
        "print(t1)\n",
        "print(t2)"
      ],
      "metadata": {
        "id": "gL65ll06Zpoh"
      },
      "execution_count": null,
      "outputs": []
    },
    {
      "cell_type": "markdown",
      "source": [
        "## 집합 자료형"
      ],
      "metadata": {
        "id": "dyyEDk6UKZA6"
      }
    },
    {
      "cell_type": "markdown",
      "source": [
        "집합 자료형 만드는 법"
      ],
      "metadata": {
        "id": "up91VRitKfRa"
      }
    },
    {
      "cell_type": "code",
      "source": [
        "s1 = set([1, 2, 3])\n",
        "print (s1)\n"
      ],
      "metadata": {
        "id": "8yDCW56-KZJD"
      },
      "execution_count": null,
      "outputs": []
    },
    {
      "cell_type": "markdown",
      "source": [
        "순서가 없고, 중복이 허용되지 않음"
      ],
      "metadata": {
        "id": "dteJ2YkIKhKr"
      }
    },
    {
      "cell_type": "code",
      "source": [
        "s2 = set(\"Hello\")\n",
        "print (s2)\n"
      ],
      "metadata": {
        "id": "oH-Wb5YbKhQ8"
      },
      "execution_count": null,
      "outputs": []
    },
    {
      "cell_type": "markdown",
      "source": [
        "교집합"
      ],
      "metadata": {
        "id": "8u5a034pKnCf"
      }
    },
    {
      "cell_type": "code",
      "source": [
        "s1 = set([1,2,3,4,5,6])\n",
        "s2 = set([4,5,6,7,8,9])\n",
        "\n",
        "print (s1 & s2)\n",
        "print (s1.intersection(s2))"
      ],
      "metadata": {
        "id": "AmxsixmmKnIl"
      },
      "execution_count": null,
      "outputs": []
    },
    {
      "cell_type": "markdown",
      "source": [
        "합집합"
      ],
      "metadata": {
        "id": "lSXADk3UK0z7"
      }
    },
    {
      "cell_type": "code",
      "source": [
        "s1 = set([1,2,3,4,5,6])\n",
        "s2 = set([4,5,6,7,8,9])\n",
        "\n",
        "print (s1 | s2)\n",
        "print (s1.union(s2))"
      ],
      "metadata": {
        "id": "NU_QfVX8K06b"
      },
      "execution_count": null,
      "outputs": []
    },
    {
      "cell_type": "markdown",
      "source": [
        "차집합"
      ],
      "metadata": {
        "id": "-Z3OuFbNK6J8"
      }
    },
    {
      "cell_type": "code",
      "source": [
        "s1 = set([1,2,3,4,5,6])\n",
        "s2 = set([4,5,6,7,8,9])\n",
        "\n",
        "print (s1 - s2)\n",
        "print (s2 - s1)\n",
        "\n",
        "print (s1.difference(s2))\n",
        "print (s2.difference(s1))\n"
      ],
      "metadata": {
        "id": "ZHN7ajICK6Q5"
      },
      "execution_count": null,
      "outputs": []
    },
    {
      "cell_type": "markdown",
      "source": [
        "값 1개 추가하기"
      ],
      "metadata": {
        "id": "18aCcovsLFh2"
      }
    },
    {
      "cell_type": "code",
      "source": [
        "s1 = set([1, 2, 3])\n",
        "s1.add(4)\n",
        "print (s1)"
      ],
      "metadata": {
        "id": "y1DD-2LeLFn2"
      },
      "execution_count": null,
      "outputs": []
    },
    {
      "cell_type": "markdown",
      "source": [
        "값 여러개 추가하기"
      ],
      "metadata": {
        "id": "WvwNAKZPLJiz"
      }
    },
    {
      "cell_type": "code",
      "source": [
        "s1 = set([1, 2, 3])\n",
        "s1.update([4,5,6])\n",
        "\n",
        "print (s1)"
      ],
      "metadata": {
        "id": "JLVOJchZLJpB"
      },
      "execution_count": null,
      "outputs": []
    },
    {
      "cell_type": "markdown",
      "source": [
        "특정 값 제거하기"
      ],
      "metadata": {
        "id": "aFL5_W52LPde"
      }
    },
    {
      "cell_type": "code",
      "source": [
        "s1 = set([1, 2, 3])\n",
        "s1.remove(2)\n",
        "print (s1)"
      ],
      "metadata": {
        "id": "Gyl6sRhdLPis"
      },
      "execution_count": null,
      "outputs": []
    },
    {
      "cell_type": "markdown",
      "source": [
        "집합 자료형을 이용한 리스트의 중복 제거하기"
      ],
      "metadata": {
        "id": "AWcz_vw4LUdJ"
      }
    },
    {
      "cell_type": "code",
      "source": [
        "list1 = [1, 2, 2, 2, 3, 3]\n",
        "list1 = list(set(list1))\n",
        "print (list1)"
      ],
      "metadata": {
        "id": "xrIuufF9LUiS"
      },
      "execution_count": null,
      "outputs": []
    },
    {
      "cell_type": "markdown",
      "source": [
        "# 실습 문제"
      ],
      "metadata": {
        "id": "P4scBH5yLtRV"
      }
    },
    {
      "cell_type": "markdown",
      "source": [
        "1. movie_rank 리스트에는 아래와 같이 네 개의 영화 제목이 바인딩되어 있다. \"슈퍼맨\"을 \"닥터 스트레인지\"와 \"스플릿\" 사이에 추가하라.\n",
        "\n"
      ],
      "metadata": {
        "id": "h77ivFmaL3s2"
      }
    },
    {
      "cell_type": "code",
      "source": [
        "movie_rank = ['닥터 스트레인지', '스플릿', '럭키', '배트맨']\n",
        "movie_rank.insert(1, \"슈퍼맨\")\n",
        "print(movie_rank)"
      ],
      "metadata": {
        "id": "Dwrx6VvdLugf"
      },
      "execution_count": null,
      "outputs": []
    },
    {
      "cell_type": "markdown",
      "source": [
        "2. movie_rank 리스트에서 '럭키'를 삭제하라.\n",
        "\n"
      ],
      "metadata": {
        "id": "OE4BFDB6L5wc"
      }
    },
    {
      "cell_type": "code",
      "source": [
        "movie_rank = ['닥터 스트레인지', '슈퍼맨', '스플릿', '럭키', '배트맨']\n",
        "movie_rank.remove(\"럭키\")\n",
        "print (movie_rank)\n"
      ],
      "metadata": {
        "id": "v9F0uJbnL54g"
      },
      "execution_count": null,
      "outputs": []
    },
    {
      "cell_type": "markdown",
      "source": [
        "3. lang1과 lang2 리스트가 있을 때 lang1과 lang2의 원소를 모두 갖고 있는 langs 리스트를 만들어라.\n",
        "\n"
      ],
      "metadata": {
        "id": "asn_xKhoL8Z0"
      }
    },
    {
      "cell_type": "code",
      "source": [
        "lang1 = [\"C\", \"C++\", \"JAVA\"]\n",
        "lang2 = [\"Python\", \"Go\", \"C#\"]\n",
        "\n",
        "langs = lang1 + lang2\n",
        "print(langs)\n",
        "\n"
      ],
      "metadata": {
        "id": "OfFKRsLEL8f9"
      },
      "execution_count": null,
      "outputs": []
    },
    {
      "cell_type": "markdown",
      "source": [
        "4. 숫자 1 이 저장된 튜플을 생성하라.\n",
        "\n"
      ],
      "metadata": {
        "id": "uGQgNvxkMAbc"
      }
    },
    {
      "cell_type": "code",
      "source": [
        "t1 = (1,)\n",
        "t2 = tuple([1])\n",
        "print(t1)\n",
        "print(t2)"
      ],
      "metadata": {
        "id": "dwcWS0EkMAjt"
      },
      "execution_count": null,
      "outputs": []
    },
    {
      "cell_type": "markdown",
      "source": [
        "5. 다음 코드를 실행해보고 오류가 발생하는 원인을 설명하라.\n",
        "\n"
      ],
      "metadata": {
        "id": "dtv5haNVMRW1"
      }
    },
    {
      "cell_type": "code",
      "source": [
        "t = (1, 2, 3)\n",
        "t[0] = 'a'\n",
        "# 튜플은 데이터 변환, 수정 불가"
      ],
      "metadata": {
        "id": "3BsDFxSQMRbT"
      },
      "execution_count": null,
      "outputs": []
    },
    {
      "cell_type": "markdown",
      "source": [
        "6. 다음 튜플을 리스트로 변환하라.\n"
      ],
      "metadata": {
        "id": "n-0JZ1YpMUa1"
      }
    },
    {
      "cell_type": "code",
      "source": [
        "interest = ('삼성전자', 'LG전자', 'SK Hynix')\n",
        "print (list(interest))"
      ],
      "metadata": {
        "id": "xp9s6p6WMUo6"
      },
      "execution_count": null,
      "outputs": []
    },
    {
      "cell_type": "markdown",
      "source": [
        "7. 다음 리스트를 튜플로 변경하라."
      ],
      "metadata": {
        "id": "EzviOJtvMdOt"
      }
    },
    {
      "cell_type": "code",
      "source": [
        "interest = ['삼성전자', 'LG전자', 'SK Hynix']\n",
        "print (tuple(interest))"
      ],
      "metadata": {
        "id": "QVm3JJ68MdTF"
      },
      "execution_count": null,
      "outputs": []
    },
    {
      "cell_type": "markdown",
      "source": [
        "8. 다음 리스트의 중복을 제거하라."
      ],
      "metadata": {
        "id": "tN1OqsfhMk4K"
      }
    },
    {
      "cell_type": "code",
      "source": [
        "a = ['A', 'C', 'C', 'T', 'G', 'T', 'A', 'C', 'T', 'T']\n",
        "a = set(a)\n",
        "a = list(a)\n",
        "print(a)\n",
        "\n",
        "a = list(set(a))\n",
        "print (a)\n",
        "\n"
      ],
      "metadata": {
        "id": "lVrGZ7zqMk_u"
      },
      "execution_count": null,
      "outputs": []
    },
    {
      "cell_type": "code",
      "source": [],
      "metadata": {
        "id": "eUQPHVhZZGK8"
      },
      "execution_count": null,
      "outputs": []
    }
  ]
}