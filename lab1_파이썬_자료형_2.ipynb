{
  "nbformat": 4,
  "nbformat_minor": 0,
  "metadata": {
    "colab": {
      "provenance": [],
      "toc_visible": true,
      "authorship_tag": "ABX9TyNr5QQrtBiwBqKUuAF+Istu",
      "include_colab_link": true
    },
    "kernelspec": {
      "name": "python3",
      "display_name": "Python 3"
    },
    "language_info": {
      "name": "python"
    }
  },
  "cells": [
    {
      "cell_type": "markdown",
      "metadata": {
        "id": "view-in-github",
        "colab_type": "text"
      },
      "source": [
        "<a href=\"https://colab.research.google.com/github/jyryu3161/biocomputing/blob/main/lab1_%ED%8C%8C%EC%9D%B4%EC%8D%AC_%EC%9E%90%EB%A3%8C%ED%98%95_2.ipynb\" target=\"_parent\"><img src=\"https://colab.research.google.com/assets/colab-badge.svg\" alt=\"Open In Colab\"/></a>"
      ]
    },
    {
      "cell_type": "markdown",
      "source": [
        "# lab1.파이썬 프로그래밍 기초, 자료형"
      ],
      "metadata": {
        "id": "pjYVFLgjOuye"
      }
    },
    {
      "cell_type": "markdown",
      "source": [
        "변수명을 만드는 규칙. 참고: https://m.post.naver.com/viewer/postView.naver?volumeNo=15835285&memberNo=38315694"
      ],
      "metadata": {
        "id": "kpB-6dqxcGBB"
      }
    },
    {
      "cell_type": "markdown",
      "source": [
        "## 리스트 자료형"
      ],
      "metadata": {
        "id": "fxT5KES5VVI7"
      }
    },
    {
      "cell_type": "markdown",
      "source": [
        "*  리스트 자료형: 여러 요소를 한번에 담을 수 있음\n",
        "*  리스트명 = [요소1, 요소2, 요소3, ...]\n",
        "\n"
      ],
      "metadata": {
        "id": "fD_zqX9TXivD"
      }
    },
    {
      "cell_type": "code",
      "source": [
        "odd = [1, 3, 5, 7, 9]\n",
        "print (odd)\n"
      ],
      "metadata": {
        "id": "Jpk9DC2lOvg1",
        "colab": {
          "base_uri": "https://localhost:8080/"
        },
        "outputId": "99ac3686-660b-46a9-9108-3feb8a45335d"
      },
      "execution_count": null,
      "outputs": [
        {
          "output_type": "stream",
          "name": "stdout",
          "text": [
            "[1, 3, 5, 7, 9]\n"
          ]
        }
      ]
    },
    {
      "cell_type": "code",
      "source": [
        "a = []\n",
        "b = [1, 2, 3]\n",
        "c = ['Life', 'is', 'too', 'short']\n",
        "d = [1, 2, 'Life', 'is']\n",
        "e = [1, 2, ['Life', 'is']]\n",
        "\n",
        "print (a)\n",
        "print (b)\n",
        "print (c)\n",
        "print (d)\n",
        "print (e)\n"
      ],
      "metadata": {
        "id": "85C6EkqkVip1",
        "colab": {
          "base_uri": "https://localhost:8080/"
        },
        "outputId": "57c86ba0-95ec-4fe4-d2b6-7a46867e0f29"
      },
      "execution_count": null,
      "outputs": [
        {
          "output_type": "stream",
          "name": "stdout",
          "text": [
            "[]\n",
            "[1, 2, 3]\n",
            "['Life', 'is', 'too', 'short']\n",
            "[1, 2, 'Life', 'is']\n",
            "[1, 2, ['Life', 'is']]\n"
          ]
        }
      ]
    },
    {
      "cell_type": "markdown",
      "source": [
        "리스트의 인덱싱"
      ],
      "metadata": {
        "id": "vPyu4BEHG7mM"
      }
    },
    {
      "cell_type": "code",
      "source": [
        "a = [1, 2, 3]\n",
        "print (a[0])\n",
        "print (a[0] + a[2])\n",
        "print (a[-1])\n",
        "\n"
      ],
      "metadata": {
        "id": "g78rtEiEG7Ig",
        "colab": {
          "base_uri": "https://localhost:8080/"
        },
        "outputId": "4f463152-6d90-4545-f27d-0ec5b8ca7f40"
      },
      "execution_count": null,
      "outputs": [
        {
          "output_type": "stream",
          "name": "stdout",
          "text": [
            "1\n",
            "4\n",
            "3\n"
          ]
        }
      ]
    },
    {
      "cell_type": "markdown",
      "source": [
        "리스트의 슬라이싱"
      ],
      "metadata": {
        "id": "hbyAAXiqHDnN"
      }
    },
    {
      "cell_type": "code",
      "source": [
        "a = [1, 2, 3, 4, 5, 6, 7, 8, 9, 10]\n",
        "print (a[0:2])\n",
        "\n",
        "b = a[:2]\n",
        "c = a[2:]\n",
        "\n",
        "print (b)\n",
        "print (c)\n",
        "\n",
        "\n",
        "print (a[0:8:2])\n"
      ],
      "metadata": {
        "id": "KUZcAC5QHDsr",
        "colab": {
          "base_uri": "https://localhost:8080/"
        },
        "outputId": "0f969c41-aee3-47d9-e527-93c5a775e5b5"
      },
      "execution_count": null,
      "outputs": [
        {
          "output_type": "stream",
          "name": "stdout",
          "text": [
            "[1, 2]\n",
            "[1, 2]\n",
            "[3, 4, 5, 6, 7, 8, 9, 10]\n",
            "[1, 3, 5, 7]\n"
          ]
        }
      ]
    },
    {
      "cell_type": "markdown",
      "source": [
        "리스트 더하기"
      ],
      "metadata": {
        "id": "Az4SBp3sHOGK"
      }
    },
    {
      "cell_type": "code",
      "source": [
        "a = [1, 2, 3]\n",
        "b = [4, 5, 6]\n",
        "\n",
        "print (a + b)\n"
      ],
      "metadata": {
        "id": "0LS_7Hp-HOPr",
        "colab": {
          "base_uri": "https://localhost:8080/"
        },
        "outputId": "855291cd-2c02-4e39-bf1f-af6d2856a78d"
      },
      "execution_count": null,
      "outputs": [
        {
          "output_type": "stream",
          "name": "stdout",
          "text": [
            "[1, 2, 3, 4, 5, 6]\n"
          ]
        }
      ]
    },
    {
      "cell_type": "markdown",
      "source": [
        "리스트 반복하기"
      ],
      "metadata": {
        "id": "OX0MCfgdHbqq"
      }
    },
    {
      "cell_type": "code",
      "source": [
        "a = [1, 2, 3]\n",
        "print (a * 3)\n",
        "\n",
        "\n",
        "a = list(range(1, 100, 1))\n",
        "print (a)\n",
        "\n",
        "a = list(range(1, 100, 2))\n",
        "print (a)\n",
        "\n",
        "\n"
      ],
      "metadata": {
        "id": "J74RIoD6HbwJ",
        "colab": {
          "base_uri": "https://localhost:8080/"
        },
        "outputId": "c12a8e4c-4a85-4722-850b-4340b6db46b4"
      },
      "execution_count": null,
      "outputs": [
        {
          "output_type": "stream",
          "name": "stdout",
          "text": [
            "[1, 2, 3, 1, 2, 3, 1, 2, 3]\n",
            "[1, 2, 3, 4, 5, 6, 7, 8, 9, 10, 11, 12, 13, 14, 15, 16, 17, 18, 19, 20, 21, 22, 23, 24, 25, 26, 27, 28, 29, 30, 31, 32, 33, 34, 35, 36, 37, 38, 39, 40, 41, 42, 43, 44, 45, 46, 47, 48, 49, 50, 51, 52, 53, 54, 55, 56, 57, 58, 59, 60, 61, 62, 63, 64, 65, 66, 67, 68, 69, 70, 71, 72, 73, 74, 75, 76, 77, 78, 79, 80, 81, 82, 83, 84, 85, 86, 87, 88, 89, 90, 91, 92, 93, 94, 95, 96, 97, 98, 99]\n",
            "[1, 3, 5, 7, 9, 11, 13, 15, 17, 19, 21, 23, 25, 27, 29, 31, 33, 35, 37, 39, 41, 43, 45, 47, 49, 51, 53, 55, 57, 59, 61, 63, 65, 67, 69, 71, 73, 75, 77, 79, 81, 83, 85, 87, 89, 91, 93, 95, 97, 99]\n"
          ]
        }
      ]
    },
    {
      "cell_type": "markdown",
      "source": [
        "리스트에서 하나의 값 수정하기"
      ],
      "metadata": {
        "id": "l7PvoAoAHjoS"
      }
    },
    {
      "cell_type": "code",
      "source": [
        "a = [1, 2, 3]\n",
        "a[2] = 4\n",
        "print (a)\n",
        "\n"
      ],
      "metadata": {
        "id": "cCqPbjxKHjvs",
        "colab": {
          "base_uri": "https://localhost:8080/"
        },
        "outputId": "826a2ad5-9fad-4b6f-d3cb-2e963306f880"
      },
      "execution_count": null,
      "outputs": [
        {
          "output_type": "stream",
          "name": "stdout",
          "text": [
            "[1, 2, 4]\n"
          ]
        }
      ]
    },
    {
      "cell_type": "markdown",
      "source": [
        "리스트에서 연속된 범위 값 수정하기"
      ],
      "metadata": {
        "id": "tzBQ0VSBHqLk"
      }
    },
    {
      "cell_type": "code",
      "source": [
        "a = [1, 2, 3]\n",
        "print (a)\n",
        "\n",
        "a[1:2] = ['a', 'b', 'c']\n",
        "print (a)"
      ],
      "metadata": {
        "id": "Od8dzDg5HqSS",
        "colab": {
          "base_uri": "https://localhost:8080/"
        },
        "outputId": "8b9fb484-ec69-4caf-abba-1b380a9c62cb"
      },
      "execution_count": null,
      "outputs": [
        {
          "output_type": "stream",
          "name": "stdout",
          "text": [
            "[1, 2, 3]\n",
            "[1, 'a', 'b', 'c', 3]\n"
          ]
        }
      ]
    },
    {
      "cell_type": "markdown",
      "source": [
        "[], del 사용해 리스트 요소 삭제하기"
      ],
      "metadata": {
        "id": "ZUA1vQ0-H3Fh"
      }
    },
    {
      "cell_type": "code",
      "source": [
        "a = [1, 'a', 'b', 'c', 4]\n",
        "a[1:3] = []\n",
        "print (a)\n",
        "\n",
        "del a[1]\n",
        "print (a)"
      ],
      "metadata": {
        "id": "EcPv4GoBH3OJ",
        "colab": {
          "base_uri": "https://localhost:8080/"
        },
        "outputId": "11173c44-3ea5-422a-d527-86cb0f93772e"
      },
      "execution_count": null,
      "outputs": [
        {
          "output_type": "stream",
          "name": "stdout",
          "text": [
            "[1, 'c', 4]\n",
            "[1, 4]\n"
          ]
        }
      ]
    },
    {
      "cell_type": "markdown",
      "source": [
        "리스트에 요소 추가"
      ],
      "metadata": {
        "id": "iTZqCU4XIEdV"
      }
    },
    {
      "cell_type": "code",
      "source": [
        "a = [1, 2, 3]\n",
        "a.append(4)\n",
        "print (a)\n",
        "\n",
        "a.append(4)\n",
        "a.append(5)\n",
        "a.append([7])\n",
        "print (a)\n",
        "\n"
      ],
      "metadata": {
        "id": "BTAifbSIIOtG",
        "colab": {
          "base_uri": "https://localhost:8080/"
        },
        "outputId": "9bd3c3bb-d389-4cd7-876f-dd726efe2219"
      },
      "execution_count": null,
      "outputs": [
        {
          "output_type": "stream",
          "name": "stdout",
          "text": [
            "[1, 2, 3, 4]\n",
            "[1, 2, 3, 4, 4, 5, [7]]\n"
          ]
        }
      ]
    },
    {
      "cell_type": "markdown",
      "source": [
        "리스트 정렬 (sort)"
      ],
      "metadata": {
        "id": "vy7Jce1LIOlV"
      }
    },
    {
      "cell_type": "code",
      "source": [
        "a = [1, 4, 3, 2]\n",
        "a.sort()\n",
        "b = a.sort()\n",
        "\n",
        "print(a.sort())\n",
        "print(b)\n",
        "\n",
        "print (a)"
      ],
      "metadata": {
        "id": "AA2cLjoIIElJ",
        "colab": {
          "base_uri": "https://localhost:8080/"
        },
        "outputId": "b96476c2-aff1-4a2a-b96b-0ae01fb3ee02"
      },
      "execution_count": null,
      "outputs": [
        {
          "output_type": "stream",
          "name": "stdout",
          "text": [
            "None\n",
            "None\n",
            "[1, 2, 3, 4]\n"
          ]
        }
      ]
    },
    {
      "cell_type": "markdown",
      "source": [
        "리스트 뒤집기 (reverse)"
      ],
      "metadata": {
        "id": "PgdLFP7nILHW"
      }
    },
    {
      "cell_type": "code",
      "source": [
        "a = ['a', 'c', 'b']\n",
        "a.reverse()\n",
        "print (a)\n",
        "\n",
        "a.sort()\n",
        "print (a)\n",
        "\n"
      ],
      "metadata": {
        "id": "atHoEWqHILN8",
        "colab": {
          "base_uri": "https://localhost:8080/"
        },
        "outputId": "63998608-0311-48d8-bad2-332876510d96"
      },
      "execution_count": null,
      "outputs": [
        {
          "output_type": "stream",
          "name": "stdout",
          "text": [
            "['b', 'c', 'a']\n",
            "['a', 'b', 'c']\n"
          ]
        }
      ]
    },
    {
      "cell_type": "markdown",
      "source": [
        "위치 반환(index)"
      ],
      "metadata": {
        "id": "tMlBP96XIWw9"
      }
    },
    {
      "cell_type": "code",
      "source": [
        "a = [1, 2, 3]\n",
        "\n",
        "print (a.index(3))\n",
        "print (a.index(1))\n"
      ],
      "metadata": {
        "id": "ywzzdbvdIW5A",
        "colab": {
          "base_uri": "https://localhost:8080/"
        },
        "outputId": "5f3fb60f-ad8d-4932-9715-4d16b0bb65ce"
      },
      "execution_count": null,
      "outputs": [
        {
          "output_type": "stream",
          "name": "stdout",
          "text": [
            "2\n",
            "0\n"
          ]
        }
      ]
    },
    {
      "cell_type": "markdown",
      "source": [
        "리스트에 요소 삽입 (insert)"
      ],
      "metadata": {
        "id": "neF6M6MPIgoP"
      }
    },
    {
      "cell_type": "code",
      "source": [
        "a = [1, 2, 3]\n",
        "a.insert(0, 4)\n",
        "print (a)\n"
      ],
      "metadata": {
        "id": "b9YE5yrBIgtJ",
        "colab": {
          "base_uri": "https://localhost:8080/"
        },
        "outputId": "6b6f81e2-0bad-476c-e58e-aa85932660fb"
      },
      "execution_count": null,
      "outputs": [
        {
          "output_type": "stream",
          "name": "stdout",
          "text": [
            "[4, 1, 2, 3]\n"
          ]
        }
      ]
    },
    {
      "cell_type": "markdown",
      "source": [
        "리스트 요소 제거 (remove)"
      ],
      "metadata": {
        "id": "wS2_mw0XIpTq"
      }
    },
    {
      "cell_type": "code",
      "source": [
        "a = [1, 2, 3, 1, 2, 3]\n",
        "print(a.remove(3))\n",
        "print (a)\n",
        "\n",
        "a.remove(3)\n",
        "print (a)\n"
      ],
      "metadata": {
        "id": "pTM6r39cIpbQ",
        "colab": {
          "base_uri": "https://localhost:8080/"
        },
        "outputId": "07a08b16-d501-4477-f3a2-068b9d65e23f"
      },
      "execution_count": null,
      "outputs": [
        {
          "output_type": "stream",
          "name": "stdout",
          "text": [
            "None\n",
            "[1, 2, 1, 2, 3]\n",
            "[1, 2, 1, 2]\n"
          ]
        }
      ]
    },
    {
      "cell_type": "markdown",
      "source": [
        "리스트 요소 끄집어내기 (pop)"
      ],
      "metadata": {
        "id": "lArLBD6GIyRo"
      }
    },
    {
      "cell_type": "code",
      "source": [
        "a = [1, 2, 3]\n",
        "b = a.pop()\n",
        "\n",
        "print (a)\n",
        "print (b)\n"
      ],
      "metadata": {
        "id": "YVztE8HeIyae",
        "colab": {
          "base_uri": "https://localhost:8080/"
        },
        "outputId": "ae9740ca-63b4-4916-a2f6-7a0318dd580a"
      },
      "execution_count": null,
      "outputs": [
        {
          "output_type": "stream",
          "name": "stdout",
          "text": [
            "[1, 2]\n",
            "3\n"
          ]
        }
      ]
    },
    {
      "cell_type": "markdown",
      "source": [
        "리스트에 포함된 요소 x의 개수 세기 (count)"
      ],
      "metadata": {
        "id": "eJPbgn27I-8T"
      }
    },
    {
      "cell_type": "code",
      "source": [
        "a = [1, 2, 3, 1]\n",
        "print (a.count(1))\n"
      ],
      "metadata": {
        "id": "0CRo8cIGI_CN",
        "colab": {
          "base_uri": "https://localhost:8080/"
        },
        "outputId": "9ada4bb0-451b-4f06-c104-9938cabd4d26"
      },
      "execution_count": null,
      "outputs": [
        {
          "output_type": "stream",
          "name": "stdout",
          "text": [
            "2\n"
          ]
        }
      ]
    },
    {
      "cell_type": "markdown",
      "source": [
        "리스트 자료형 사용 시 주의사항"
      ],
      "metadata": {
        "id": "yoJ6dhGHJGek"
      }
    },
    {
      "cell_type": "code",
      "source": [
        "a = [1, 2, 3]\n",
        "b = a\n",
        "b[1] = 5\n",
        "\n",
        "print (a)\n",
        "print (b)\n",
        "\n",
        "print (id(a))\n",
        "print (id(b))"
      ],
      "metadata": {
        "colab": {
          "base_uri": "https://localhost:8080/"
        },
        "id": "lUVu9SK6JGkW",
        "outputId": "17d2067b-b9d9-4ae1-ab55-47ef9b1367b9"
      },
      "execution_count": null,
      "outputs": [
        {
          "output_type": "stream",
          "name": "stdout",
          "text": [
            "[1, 5, 3]\n",
            "[1, 5, 3]\n",
            "140070087380096\n",
            "140070087380096\n"
          ]
        }
      ]
    },
    {
      "cell_type": "code",
      "source": [
        "import copy\n",
        "\n",
        "a = [1, 2, 3]\n",
        "b = copy.deepcopy(a)\n",
        "b[1] = 5\n",
        "\n",
        "print (a)\n",
        "print (b)\n",
        "\n",
        "print (id(a))\n",
        "print (id(b))"
      ],
      "metadata": {
        "colab": {
          "base_uri": "https://localhost:8080/"
        },
        "id": "rmv8pMeVJUJO",
        "outputId": "131894b3-d4c2-4d99-a105-321ad5759659"
      },
      "execution_count": null,
      "outputs": [
        {
          "output_type": "stream",
          "name": "stdout",
          "text": [
            "[1, 2, 3]\n",
            "[1, 5, 3]\n",
            "140070087380160\n",
            "140070087426688\n"
          ]
        }
      ]
    },
    {
      "cell_type": "markdown",
      "source": [
        "## 튜플 자료형"
      ],
      "metadata": {
        "id": "uPXFBbWwJZUP"
      }
    },
    {
      "cell_type": "markdown",
      "source": [
        "튜플 자료형을 만드는 법\n"
      ],
      "metadata": {
        "id": "SJbWLB0nZFEV"
      }
    },
    {
      "cell_type": "code",
      "source": [
        "t1 = (1, 2, 'a', 'b')\n",
        "t2 = tuple([1, 2, 'a', 'b'])\n",
        "t3 = (1,)\n",
        "\n",
        "print (t1)\n",
        "print (t2)\n",
        "print (t3)"
      ],
      "metadata": {
        "id": "rWXaFphfVWgK",
        "colab": {
          "base_uri": "https://localhost:8080/"
        },
        "outputId": "633239d2-631b-49ff-96eb-6d6e30df27fc"
      },
      "execution_count": null,
      "outputs": [
        {
          "output_type": "stream",
          "name": "stdout",
          "text": [
            "(1, 2, 'a', 'b')\n",
            "(1, 2, 'a', 'b')\n",
            "(1,)\n"
          ]
        }
      ]
    },
    {
      "cell_type": "markdown",
      "source": [
        "튜플 요소값 삭제 시 오류"
      ],
      "metadata": {
        "id": "5SDtwSMYJoO4"
      }
    },
    {
      "cell_type": "code",
      "source": [
        "t1 = (1, 2, 'a', 'b')\n",
        "del t1[0]\n"
      ],
      "metadata": {
        "id": "f3OvAsofJoVJ",
        "colab": {
          "base_uri": "https://localhost:8080/",
          "height": 188
        },
        "outputId": "72b490b3-8e4d-4c0b-d931-b70aa2bc620a"
      },
      "execution_count": null,
      "outputs": [
        {
          "output_type": "error",
          "ename": "TypeError",
          "evalue": "ignored",
          "traceback": [
            "\u001b[0;31m---------------------------------------------------------------------------\u001b[0m",
            "\u001b[0;31mTypeError\u001b[0m                                 Traceback (most recent call last)",
            "\u001b[0;32m<ipython-input-43-f66ca102cafc>\u001b[0m in \u001b[0;36m<module>\u001b[0;34m\u001b[0m\n\u001b[1;32m      1\u001b[0m \u001b[0mt1\u001b[0m \u001b[0;34m=\u001b[0m \u001b[0;34m(\u001b[0m\u001b[0;36m1\u001b[0m\u001b[0;34m,\u001b[0m \u001b[0;36m2\u001b[0m\u001b[0;34m,\u001b[0m \u001b[0;34m'a'\u001b[0m\u001b[0;34m,\u001b[0m \u001b[0;34m'b'\u001b[0m\u001b[0;34m)\u001b[0m\u001b[0;34m\u001b[0m\u001b[0;34m\u001b[0m\u001b[0m\n\u001b[0;32m----> 2\u001b[0;31m \u001b[0;32mdel\u001b[0m \u001b[0mt1\u001b[0m\u001b[0;34m[\u001b[0m\u001b[0;36m0\u001b[0m\u001b[0;34m]\u001b[0m\u001b[0;34m\u001b[0m\u001b[0;34m\u001b[0m\u001b[0m\n\u001b[0m",
            "\u001b[0;31mTypeError\u001b[0m: 'tuple' object doesn't support item deletion"
          ]
        }
      ]
    },
    {
      "cell_type": "markdown",
      "source": [
        "튜플 요소값 변경 시 오류"
      ],
      "metadata": {
        "id": "B5mzKlQAJvsA"
      }
    },
    {
      "cell_type": "code",
      "source": [
        "t1 = (1, 2, 'a', 'b')\n",
        "t1[0] = 'c'\n"
      ],
      "metadata": {
        "id": "eDecBGbvJvyF",
        "colab": {
          "base_uri": "https://localhost:8080/",
          "height": 188
        },
        "outputId": "591cf246-6541-41c9-85fd-72290c269b68"
      },
      "execution_count": null,
      "outputs": [
        {
          "output_type": "error",
          "ename": "TypeError",
          "evalue": "ignored",
          "traceback": [
            "\u001b[0;31m---------------------------------------------------------------------------\u001b[0m",
            "\u001b[0;31mTypeError\u001b[0m                                 Traceback (most recent call last)",
            "\u001b[0;32m<ipython-input-44-b5ce56bb2692>\u001b[0m in \u001b[0;36m<module>\u001b[0;34m\u001b[0m\n\u001b[1;32m      1\u001b[0m \u001b[0mt1\u001b[0m \u001b[0;34m=\u001b[0m \u001b[0;34m(\u001b[0m\u001b[0;36m1\u001b[0m\u001b[0;34m,\u001b[0m \u001b[0;36m2\u001b[0m\u001b[0;34m,\u001b[0m \u001b[0;34m'a'\u001b[0m\u001b[0;34m,\u001b[0m \u001b[0;34m'b'\u001b[0m\u001b[0;34m)\u001b[0m\u001b[0;34m\u001b[0m\u001b[0;34m\u001b[0m\u001b[0m\n\u001b[0;32m----> 2\u001b[0;31m \u001b[0mt1\u001b[0m\u001b[0;34m[\u001b[0m\u001b[0;36m0\u001b[0m\u001b[0;34m]\u001b[0m \u001b[0;34m=\u001b[0m \u001b[0;34m'c'\u001b[0m\u001b[0;34m\u001b[0m\u001b[0;34m\u001b[0m\u001b[0m\n\u001b[0m",
            "\u001b[0;31mTypeError\u001b[0m: 'tuple' object does not support item assignment"
          ]
        }
      ]
    },
    {
      "cell_type": "markdown",
      "source": [
        "인덱싱"
      ],
      "metadata": {
        "id": "lderid-IJ1L1"
      }
    },
    {
      "cell_type": "code",
      "source": [
        "t1 = (1, 2, 'a', 'b')\n",
        "print (t1[0])\n",
        "print (t1[3])\n"
      ],
      "metadata": {
        "id": "4ss6W8xWJ1R-",
        "colab": {
          "base_uri": "https://localhost:8080/"
        },
        "outputId": "fb6623bb-ebca-4f2c-da38-5d1a53485311"
      },
      "execution_count": null,
      "outputs": [
        {
          "output_type": "stream",
          "name": "stdout",
          "text": [
            "1\n",
            "b\n"
          ]
        }
      ]
    },
    {
      "cell_type": "markdown",
      "source": [
        "슬라이싱"
      ],
      "metadata": {
        "id": "l4YBhdsCJ5df"
      }
    },
    {
      "cell_type": "code",
      "source": [
        "t1 = (1, 2, 'a', 'b')\n",
        "print (t1[1:])"
      ],
      "metadata": {
        "id": "5ZyQfvcNJ5hh",
        "colab": {
          "base_uri": "https://localhost:8080/"
        },
        "outputId": "09db575d-f4cb-4315-aa09-0062fa7f2acd"
      },
      "execution_count": null,
      "outputs": [
        {
          "output_type": "stream",
          "name": "stdout",
          "text": [
            "(2, 'a', 'b')\n"
          ]
        }
      ]
    },
    {
      "cell_type": "markdown",
      "source": [
        "더하기, 곱하기"
      ],
      "metadata": {
        "id": "VoLiCX0qZpcH"
      }
    },
    {
      "cell_type": "code",
      "source": [
        "t1 = (1, 2, 'a', 'b')\n",
        "t2 = (3, 4)\n",
        "\n",
        "t3 = t1 + t3\n",
        "\n",
        "print(t1 + t2)\n",
        "print (t2 * 3)\n",
        "\n",
        "print(t1)\n",
        "print(t2)"
      ],
      "metadata": {
        "id": "gL65ll06Zpoh",
        "colab": {
          "base_uri": "https://localhost:8080/"
        },
        "outputId": "2256224f-d3cb-461c-df2d-7f92ce324e70"
      },
      "execution_count": null,
      "outputs": [
        {
          "output_type": "stream",
          "name": "stdout",
          "text": [
            "(1, 2, 'a', 'b', 3, 4)\n",
            "(3, 4, 3, 4, 3, 4)\n",
            "(1, 2, 'a', 'b')\n",
            "(3, 4)\n"
          ]
        }
      ]
    },
    {
      "cell_type": "markdown",
      "source": [
        "## 집합 자료형"
      ],
      "metadata": {
        "id": "dyyEDk6UKZA6"
      }
    },
    {
      "cell_type": "markdown",
      "source": [
        "집합 자료형 만드는 법"
      ],
      "metadata": {
        "id": "up91VRitKfRa"
      }
    },
    {
      "cell_type": "code",
      "source": [
        "s1 = set([1, 2, 3])\n",
        "print (s1)\n"
      ],
      "metadata": {
        "id": "8yDCW56-KZJD",
        "colab": {
          "base_uri": "https://localhost:8080/"
        },
        "outputId": "2dcff01a-e3cc-410f-c073-2391ade26981"
      },
      "execution_count": null,
      "outputs": [
        {
          "output_type": "stream",
          "name": "stdout",
          "text": [
            "{1, 2, 3}\n"
          ]
        }
      ]
    },
    {
      "cell_type": "markdown",
      "source": [
        "순서가 없고, 중복이 허용되지 않음"
      ],
      "metadata": {
        "id": "dteJ2YkIKhKr"
      }
    },
    {
      "cell_type": "code",
      "source": [
        "s2 = set(\"Hello\")\n",
        "print (s2)\n"
      ],
      "metadata": {
        "id": "oH-Wb5YbKhQ8",
        "colab": {
          "base_uri": "https://localhost:8080/"
        },
        "outputId": "c2f8ac12-49dc-4b77-a715-760a39a4b1df"
      },
      "execution_count": null,
      "outputs": [
        {
          "output_type": "stream",
          "name": "stdout",
          "text": [
            "{'H', 'l', 'o', 'e'}\n"
          ]
        }
      ]
    },
    {
      "cell_type": "markdown",
      "source": [
        "교집합"
      ],
      "metadata": {
        "id": "8u5a034pKnCf"
      }
    },
    {
      "cell_type": "code",
      "source": [
        "s1 = set([1,2,3,4,5,6])\n",
        "s2 = set([4,5,6,7,8,9])\n",
        "\n",
        "print (s1 & s2)\n",
        "print (s1.intersection(s2))"
      ],
      "metadata": {
        "id": "AmxsixmmKnIl",
        "colab": {
          "base_uri": "https://localhost:8080/"
        },
        "outputId": "caa85dc8-f291-4922-9bdc-2531f96da3f0"
      },
      "execution_count": null,
      "outputs": [
        {
          "output_type": "stream",
          "name": "stdout",
          "text": [
            "{4, 5, 6}\n",
            "{4, 5, 6}\n"
          ]
        }
      ]
    },
    {
      "cell_type": "markdown",
      "source": [
        "합집합"
      ],
      "metadata": {
        "id": "lSXADk3UK0z7"
      }
    },
    {
      "cell_type": "code",
      "source": [
        "s1 = set([1,2,3,4,5,6])\n",
        "s2 = set([4,5,6,7,8,9])\n",
        "\n",
        "print (s1 | s2)\n",
        "print (s1.union(s2))"
      ],
      "metadata": {
        "id": "NU_QfVX8K06b",
        "colab": {
          "base_uri": "https://localhost:8080/"
        },
        "outputId": "b3b924b9-3629-416d-ec45-f59e4c74f22c"
      },
      "execution_count": null,
      "outputs": [
        {
          "output_type": "stream",
          "name": "stdout",
          "text": [
            "{1, 2, 3, 4, 5, 6, 7, 8, 9}\n",
            "{1, 2, 3, 4, 5, 6, 7, 8, 9}\n"
          ]
        }
      ]
    },
    {
      "cell_type": "markdown",
      "source": [
        "차집합"
      ],
      "metadata": {
        "id": "-Z3OuFbNK6J8"
      }
    },
    {
      "cell_type": "code",
      "source": [
        "s1 = set([1,2,3,4,5,6])\n",
        "s2 = set([4,5,6,7,8,9])\n",
        "\n",
        "print (s1 - s2)\n",
        "print (s2 - s1)\n",
        "\n",
        "print (s1.difference(s2))\n",
        "print (s2.difference(s1))\n"
      ],
      "metadata": {
        "id": "ZHN7ajICK6Q5",
        "colab": {
          "base_uri": "https://localhost:8080/"
        },
        "outputId": "c52db5d2-4bcb-471e-bbbe-0e7b1655895a"
      },
      "execution_count": null,
      "outputs": [
        {
          "output_type": "stream",
          "name": "stdout",
          "text": [
            "{1, 2, 3}\n",
            "{8, 9, 7}\n",
            "{1, 2, 3}\n",
            "{8, 9, 7}\n"
          ]
        }
      ]
    },
    {
      "cell_type": "markdown",
      "source": [
        "값 1개 추가하기"
      ],
      "metadata": {
        "id": "18aCcovsLFh2"
      }
    },
    {
      "cell_type": "code",
      "source": [
        "s1 = set([1, 2, 3])\n",
        "s1.add(4)\n",
        "print (s1)"
      ],
      "metadata": {
        "id": "y1DD-2LeLFn2"
      },
      "execution_count": null,
      "outputs": []
    },
    {
      "cell_type": "markdown",
      "source": [
        "값 여러개 추가하기"
      ],
      "metadata": {
        "id": "WvwNAKZPLJiz"
      }
    },
    {
      "cell_type": "code",
      "source": [
        "s1 = set([1, 2, 3])\n",
        "s1.update([4,5,6])\n",
        "\n",
        "print (s1)"
      ],
      "metadata": {
        "id": "JLVOJchZLJpB"
      },
      "execution_count": null,
      "outputs": []
    },
    {
      "cell_type": "markdown",
      "source": [
        "특정 값 제거하기"
      ],
      "metadata": {
        "id": "aFL5_W52LPde"
      }
    },
    {
      "cell_type": "code",
      "source": [
        "s1 = set([1, 2, 3])\n",
        "s1.remove(2)\n",
        "print (s1)"
      ],
      "metadata": {
        "id": "Gyl6sRhdLPis"
      },
      "execution_count": null,
      "outputs": []
    },
    {
      "cell_type": "markdown",
      "source": [
        "집합 자료형을 이용한 리스트의 중복 제거하기"
      ],
      "metadata": {
        "id": "AWcz_vw4LUdJ"
      }
    },
    {
      "cell_type": "code",
      "source": [
        "list1 = [1, 2, 2, 2, 3, 3]\n",
        "list1 = list(set(list1))\n",
        "print (list1)"
      ],
      "metadata": {
        "colab": {
          "base_uri": "https://localhost:8080/"
        },
        "id": "xrIuufF9LUiS",
        "outputId": "db805655-c67b-4232-cb01-a36f0647ea56"
      },
      "execution_count": null,
      "outputs": [
        {
          "output_type": "stream",
          "name": "stdout",
          "text": [
            "[1, 2, 3]\n"
          ]
        }
      ]
    },
    {
      "cell_type": "markdown",
      "source": [
        "# 실습 문제"
      ],
      "metadata": {
        "id": "P4scBH5yLtRV"
      }
    },
    {
      "cell_type": "markdown",
      "source": [
        "1. movie_rank 리스트에는 아래와 같이 네 개의 영화 제목이 바인딩되어 있다. \"슈퍼맨\"을 \"닥터 스트레인지\"와 \"스플릿\" 사이에 추가하라.\n",
        "\n"
      ],
      "metadata": {
        "id": "h77ivFmaL3s2"
      }
    },
    {
      "cell_type": "code",
      "source": [
        "movie_rank = ['닥터 스트레인지', '스플릿', '럭키', '배트맨']\n",
        "movie_rank.insert(1, \"슈퍼맨\")\n",
        "print(movie_rank)"
      ],
      "metadata": {
        "id": "Dwrx6VvdLugf",
        "colab": {
          "base_uri": "https://localhost:8080/"
        },
        "outputId": "b1571212-702c-4bab-fdb6-9d12ef66e85c"
      },
      "execution_count": null,
      "outputs": [
        {
          "output_type": "stream",
          "name": "stdout",
          "text": [
            "['닥터 스트레인지', '슈퍼맨', '스플릿', '럭키', '배트맨']\n"
          ]
        }
      ]
    },
    {
      "cell_type": "markdown",
      "source": [
        "2. movie_rank 리스트에서 '럭키'를 삭제하라.\n",
        "\n"
      ],
      "metadata": {
        "id": "OE4BFDB6L5wc"
      }
    },
    {
      "cell_type": "code",
      "source": [
        "movie_rank = ['닥터 스트레인지', '슈퍼맨', '스플릿', '럭키', '배트맨']\n",
        "movie_rank.remove(\"럭키\")\n",
        "print (movie_rank)\n"
      ],
      "metadata": {
        "id": "v9F0uJbnL54g",
        "colab": {
          "base_uri": "https://localhost:8080/"
        },
        "outputId": "ac760edb-5cf9-4f67-f409-c33e21023ebe"
      },
      "execution_count": null,
      "outputs": [
        {
          "output_type": "stream",
          "name": "stdout",
          "text": [
            "['닥터 스트레인지', '슈퍼맨', '스플릿', '배트맨']\n"
          ]
        }
      ]
    },
    {
      "cell_type": "markdown",
      "source": [
        "3. lang1과 lang2 리스트가 있을 때 lang1과 lang2의 원소를 모두 갖고 있는 langs 리스트를 만들어라.\n",
        "\n"
      ],
      "metadata": {
        "id": "asn_xKhoL8Z0"
      }
    },
    {
      "cell_type": "code",
      "source": [
        "lang1 = [\"C\", \"C++\", \"JAVA\"]\n",
        "lang2 = [\"Python\", \"Go\", \"C#\"]\n",
        "\n",
        "langs = lang1 + lang2\n",
        "print(langs)\n",
        "\n"
      ],
      "metadata": {
        "id": "OfFKRsLEL8f9",
        "colab": {
          "base_uri": "https://localhost:8080/"
        },
        "outputId": "5fd19616-32db-43d3-d0a6-cf53d7de82a5"
      },
      "execution_count": null,
      "outputs": [
        {
          "output_type": "stream",
          "name": "stdout",
          "text": [
            "['C', 'C++', 'JAVA', 'Python', 'Go', 'C#']\n"
          ]
        }
      ]
    },
    {
      "cell_type": "markdown",
      "source": [
        "4. 숫자 1 이 저장된 튜플을 생성하라.\n",
        "\n"
      ],
      "metadata": {
        "id": "uGQgNvxkMAbc"
      }
    },
    {
      "cell_type": "code",
      "source": [
        "t1 = (1,)\n",
        "t2 = tuple([1])\n",
        "print(t1)\n",
        "print(t2)"
      ],
      "metadata": {
        "id": "dwcWS0EkMAjt",
        "colab": {
          "base_uri": "https://localhost:8080/"
        },
        "outputId": "f29c64c1-720d-4289-ce31-aa9b56b4e89b"
      },
      "execution_count": null,
      "outputs": [
        {
          "output_type": "stream",
          "name": "stdout",
          "text": [
            "(1,)\n",
            "(1,)\n"
          ]
        }
      ]
    },
    {
      "cell_type": "markdown",
      "source": [
        "5. 다음 코드를 실행해보고 오류가 발생하는 원인을 설명하라.\n",
        "\n"
      ],
      "metadata": {
        "id": "dtv5haNVMRW1"
      }
    },
    {
      "cell_type": "code",
      "source": [
        "t = (1, 2, 3)\n",
        "t[0] = 'a'\n",
        "# 튜플은 데이터 변환, 수정 불가"
      ],
      "metadata": {
        "id": "3BsDFxSQMRbT",
        "colab": {
          "base_uri": "https://localhost:8080/",
          "height": 207
        },
        "outputId": "42792a90-bfc3-4e47-a4c0-2fbc4377f131"
      },
      "execution_count": null,
      "outputs": [
        {
          "output_type": "error",
          "ename": "TypeError",
          "evalue": "ignored",
          "traceback": [
            "\u001b[0;31m---------------------------------------------------------------------------\u001b[0m",
            "\u001b[0;31mTypeError\u001b[0m                                 Traceback (most recent call last)",
            "\u001b[0;32m<ipython-input-61-28ac3d8f67b4>\u001b[0m in \u001b[0;36m<module>\u001b[0;34m\u001b[0m\n\u001b[1;32m      1\u001b[0m \u001b[0mt\u001b[0m \u001b[0;34m=\u001b[0m \u001b[0;34m(\u001b[0m\u001b[0;36m1\u001b[0m\u001b[0;34m,\u001b[0m \u001b[0;36m2\u001b[0m\u001b[0;34m,\u001b[0m \u001b[0;36m3\u001b[0m\u001b[0;34m)\u001b[0m\u001b[0;34m\u001b[0m\u001b[0;34m\u001b[0m\u001b[0m\n\u001b[0;32m----> 2\u001b[0;31m \u001b[0mt\u001b[0m\u001b[0;34m[\u001b[0m\u001b[0;36m0\u001b[0m\u001b[0;34m]\u001b[0m \u001b[0;34m=\u001b[0m \u001b[0;34m'a'\u001b[0m\u001b[0;34m\u001b[0m\u001b[0;34m\u001b[0m\u001b[0m\n\u001b[0m\u001b[1;32m      3\u001b[0m \u001b[0;31m# 튜플은 데이터 변환, 수정 불가\u001b[0m\u001b[0;34m\u001b[0m\u001b[0;34m\u001b[0m\u001b[0m\n",
            "\u001b[0;31mTypeError\u001b[0m: 'tuple' object does not support item assignment"
          ]
        }
      ]
    },
    {
      "cell_type": "markdown",
      "source": [
        "6. 다음 튜플을 리스트로 변환하라.\n"
      ],
      "metadata": {
        "id": "n-0JZ1YpMUa1"
      }
    },
    {
      "cell_type": "code",
      "source": [
        "interest = ('삼성전자', 'LG전자', 'SK Hynix')\n",
        "print (list(interest))"
      ],
      "metadata": {
        "id": "xp9s6p6WMUo6",
        "colab": {
          "base_uri": "https://localhost:8080/"
        },
        "outputId": "dffbaea2-2098-4b7a-d1cd-8c9592c90944"
      },
      "execution_count": null,
      "outputs": [
        {
          "output_type": "stream",
          "name": "stdout",
          "text": [
            "['삼성전자', 'LG전자', 'SK Hynix']\n"
          ]
        }
      ]
    },
    {
      "cell_type": "markdown",
      "source": [
        "7. 다음 리스트를 튜플로 변경하라."
      ],
      "metadata": {
        "id": "EzviOJtvMdOt"
      }
    },
    {
      "cell_type": "code",
      "source": [
        "interest = ['삼성전자', 'LG전자', 'SK Hynix']\n",
        "print (tuple(interest))"
      ],
      "metadata": {
        "id": "QVm3JJ68MdTF",
        "colab": {
          "base_uri": "https://localhost:8080/"
        },
        "outputId": "1782b52a-c1d6-4339-c7d0-deeebab698ee"
      },
      "execution_count": null,
      "outputs": [
        {
          "output_type": "stream",
          "name": "stdout",
          "text": [
            "('삼성전자', 'LG전자', 'SK Hynix')\n"
          ]
        }
      ]
    },
    {
      "cell_type": "markdown",
      "source": [
        "8. 다음 리스트의 중복을 제거하라."
      ],
      "metadata": {
        "id": "tN1OqsfhMk4K"
      }
    },
    {
      "cell_type": "code",
      "source": [
        "a = ['A', 'C', 'C', 'T', 'G', 'T', 'A', 'C', 'T', 'T']\n",
        "a = set(a)\n",
        "a = list(a)\n",
        "print(a)\n",
        "\n",
        "a = list(set(a))\n",
        "print (a)\n",
        "\n"
      ],
      "metadata": {
        "id": "lVrGZ7zqMk_u",
        "colab": {
          "base_uri": "https://localhost:8080/"
        },
        "outputId": "acdb3433-9627-4922-a042-875a519d03b5"
      },
      "execution_count": null,
      "outputs": [
        {
          "output_type": "stream",
          "name": "stdout",
          "text": [
            "['T', 'G', 'C', 'A']\n",
            "['T', 'G', 'C', 'A']\n"
          ]
        }
      ]
    },
    {
      "cell_type": "code",
      "source": [],
      "metadata": {
        "id": "eUQPHVhZZGK8"
      },
      "execution_count": null,
      "outputs": []
    }
  ]
}